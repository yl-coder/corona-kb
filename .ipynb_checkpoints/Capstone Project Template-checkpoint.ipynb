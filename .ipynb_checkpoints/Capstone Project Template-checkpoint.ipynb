{
 "cells": [
  {
   "cell_type": "markdown",
   "metadata": {
    "editable": true
   },
   "source": [
    "# Project Title\n",
    "### Data Engineering Capstone Project\n",
    "\n",
    "#### Project Summary\n",
    "--describe your project at a high level--\n",
    "\n",
    "The project follows the follow steps:\n",
    "* Step 1: Scope the Project and Gather Data\n",
    "* Step 2: Explore and Assess the Data\n",
    "* Step 3: Define the Data Model\n",
    "* Step 4: Run ETL to Model the Data\n",
    "* Step 5: Complete Project Write Up"
   ]
  },
  {
   "cell_type": "code",
   "execution_count": 1,
   "metadata": {
    "editable": true
   },
   "outputs": [],
   "source": [
    "# Do all imports and installs here\n",
    "import pandas as pd\n",
    "import configparser\n",
    "import subprocess\n",
    "from datetime import datetime\n",
    "import os\n",
    "import requests\n",
    "import urllib\n",
    "import pyspark.sql.functions as F\n",
    "from pyspark.sql import SparkSession\n",
    "from pyspark.sql.functions import udf, col,unix_timestamp\n",
    "from pyspark.sql.functions import year, month, dayofmonth, hour, weekofyear, date_format\n",
    "from pyspark.sql.types import DateType, TimestampType, IntegerType,BooleanType,StringType\n",
    "import uuid\n",
    "from pyspark.sql.functions import udf, lit\n",
    "\n",
    "\n",
    "LAST_UPDATE_DOWNLOAD_SITE='http://data.gdeltproject.org/gdeltv2/lastupdate.txt'\n",
    "COUNTRY_CODE_SITE='https://www.gdeltproject.org/data/lookups/CAMEO.country.txt'\n",
    "CORONA_STATS_SITE='https://docs.google.com/spreadsheets/d/1wQVypefm946ch4XDp37uZ-wartW4V7ILdg-qYiDXUHM/export?format=tsv'\n",
    "\n",
    "JDBC_URL= \"jdbc:postgresql://database-1.cnnary56y6va.us-east-1.rds.amazonaws.com:5432/postgres\"\n",
    "JDBC_URL_SCHEMA= \"coronakb.\"\n",
    "JDBC_USER= \"postgres\"\n",
    "JDBC_PASSWORD= \"s5678202d\""
   ]
  },
  {
   "cell_type": "code",
   "execution_count": 2,
   "metadata": {
    "editable": true
   },
   "outputs": [],
   "source": [
    "spark = SparkSession \\\n",
    "        .builder \\\n",
    "        .config(\"spark.jars.packages\", \"org.apache.hadoop:hadoop-aws:2.7.3,org.postgresql:postgresql:9.4.1207.jre7\") \\\n",
    "        .getOrCreate()"
   ]
  },
  {
   "cell_type": "markdown",
   "metadata": {
    "editable": true
   },
   "source": [
    "### Step 1: Scope the Project and Gather Data\n",
    "\n",
    "#### Scope \n",
    "Explain what you plan to do in the project in more detail. What data do you use? What is your end solution look like? What tools did you use? etc>\n",
    "\n",
    "#### Describe and Gather Data \n",
    "Describe the data sets you're using. Where did it come from? What type of information is included? "
   ]
  },
  {
   "cell_type": "code",
   "execution_count": 3,
   "metadata": {
    "editable": true
   },
   "outputs": [
    {
     "data": {
      "text/plain": [
       "0"
      ]
     },
     "execution_count": 3,
     "metadata": {},
     "output_type": "execute_result"
    }
   ],
   "source": [
    "# Read in the data here\n",
    "\n",
    "source_event_url_content = requests.get(LAST_UPDATE_DOWNLOAD_SITE).content\n",
    "source_event_url = str(source_event_url_content,\"utf8\").split(\"\\n\")[0].split(\" \")[2]\n",
    "\n",
    "source_country_name_url_content = str(requests.get(COUNTRY_CODE_SITE).content, \"utf8\")\n",
    "\n",
    "# convert arrOfCountryCodeRaw into map of country_code -> country_name mapping.\n",
    "dictOfCountryCode = dict(item.split(\"\\t\") for item in source_country_name_url_content[:-1].split(\"\\n\"))\n",
    "\n",
    "urllib.request.urlretrieve(source_event_url, \"data/event.csv.zip\")\n",
    "\n",
    "csvHeader ='GlobalEventID\\tDay\\tMonthYear\\tYear\\tFractionDate\\tActor1Code\\tActor1Name\\tActor1CountryCode\\tActor1KnownGroupCode\\tActor1EthnicCode\\tActor1Religion1Code\\tActor1Religion2Code\\tActor1Type1Code\\tActor1Type2Code\\tActor1Type3Code\\tActor2Code\\tActor2Name\\tActor2CountryCode\\tActor2KnownGroupCode\\tActor2EthnicCode\\tActor2Religion1Code\\tActor2Religion2Code\\tActor2Type1Code\\tActor2Type2Code\\tActor2Type3Code\\tIsRootEvent\\tEventCode\\tEventBaseCode\\tEventRootCode\\tQuadClass\\tGoldsteinScale\\tNumMentions\\tNumSources\\tNumArticles\\tAvgTone\\tActor1Geo_Type\\tActor1Geo_Fullname\\tActor1Geo_CountryCode\\tActor1Geo_ADM1Code\\tActor1Geo_ADM2Code\\tActor1Geo_Lat\\tActor1Geo_Long\\tActor1Geo_FeatureID\\tActor2Geo_Type\\tActor2Geo_Fullname\\tActor2Geo_CountryCode\\tActor2Geo_ADM1Code\\tActor2Geo_ADM2Code\\tActor2Geo_Lat\\tActor2Geo_Long\\tActor2Geo_FeatureID\\tActionGeo_Type\\tActionGeo_Fullname\\tActionGeo_CountryCode\\tActionGeo_ADM1Code\\tActionGeo_ADM2Code\\tActionGeo_Lat\\tActionGeo_Long\\tActionGeo_FeatureID\\tDateadded\\tSourceurl\\n'\n",
    "\n",
    "subprocess.call(\"unzip data/event.csv.zip -d data && tail -n +1 data/*.CSV > data/temp.csv && sleep 1 &&\" + \n",
    "                 \"echo \\\"\" + csvHeader + \"\\\" > \" + \"data/header.txt && \" + \n",
    "                 \" cat data/header.txt data/temp.csv > data/source_event.csv && rm data/*.export.CSV\", shell=True)\n",
    "\n"
   ]
  },
  {
   "cell_type": "code",
   "execution_count": 16,
   "metadata": {
    "editable": true
   },
   "outputs": [],
   "source": [
    "\n",
    "df = spark.read.format(\"csv\").option(\"delimiter\", \"\\t\").option(\"inferschema\", \"true\").option(\"header\", \"true\").load(\"data/source_event.csv\")"
   ]
  },
  {
   "cell_type": "code",
   "execution_count": 18,
   "metadata": {
    "editable": true
   },
   "outputs": [],
   "source": [
    "checkIfExistsInDict = udf(lambda x: x in dictOfCountryCode.keys(), BooleanType())\n",
    "\n",
    "\n",
    "\n",
    "filteredDs = df.filter(checkIfExistsInDict(df.Actor1CountryCode) | checkIfExistsInDict(df.Actor2CountryCode)).filter(df.Sourceurl.like(\"%corona%\"))\n",
    "\n",
    "union1Df = filteredDs.select(filteredDs.Actor1CountryCode.alias(\"country_code\"), filteredDs.Sourceurl.alias(\"url\"), filteredDs.Dateadded.alias(\"date_added\"))\n",
    "union2Df = filteredDs.select(filteredDs.Actor2CountryCode.alias(\"country_code\"), filteredDs.Sourceurl.alias(\"url\"), filteredDs.Dateadded.alias(\"date_added\"))\n",
    "\n",
    "unionDf = union1Df.union(union2Df);\n",
    "\n",
    "unionDf = unionDf.filter(\"country_code IS NOT NULL\").dropDuplicates([\"country_code\", \"url\"])\n",
    "\n",
    "uuidUdf= udf(lambda : str(uuid.uuid4()),StringType())\n",
    "\n",
    "newsEventsFactDf = unionDf.withColumn(\"id\", uuidUdf())\n",
    "\n",
    "newsEventsFactDf.write.mode(\"append\") \\\n",
    "    .format(\"jdbc\") \\\n",
    "    .option(\"url\", JDBC_URL) \\\n",
    "    .option(\"dbtable\",JDBC_URL_SCHEMA + \"news_events_fct\") \\\n",
    "    .option(\"user\", JDBC_USER) \\\n",
    "    .option(\"driver\", \"org.postgresql.Driver\")\\\n",
    "    .option(\"password\", JDBC_PASSWORD) \\\n",
    "    .save();\n",
    "\n"
   ]
  },
  {
   "cell_type": "code",
   "execution_count": 23,
   "metadata": {
    "editable": true
   },
   "outputs": [],
   "source": [
    "\n",
    "coronaDf = spark.read.format(\"csv\").option(\"delimiter\", \"\\t\").option(\"inferschema\", \"true\").option(\"header\", \"true\").load(\"data/corona.csv\")\n",
    "modDf = coronaDf.groupBy(\"Country/Region\").agg(F.sum(\"Confirmed\").alias(\"total_confirmed\"), F.sum(\"Deaths\").alias(\"total_deaths\"), F.sum(\"Recovered\").alias(\"total_recovered\"))\n",
    "\n",
    "modDf = modDf.withColumn(\"Country/Region\", F.when(modDf[\"Country/Region\"] == \"Mainland China\", \"China\").otherwise(modDf[\"Country/Region\"]))\n",
    "modDf = modDf.withColumn(\"Country/Region\", F.when(modDf[\"Country/Region\"] == \"US\", \"United States\").otherwise(modDf[\"Country/Region\"]))\n",
    "modDf = modDf.withColumn(\"Country/Region\", F.when(modDf[\"Country/Region\"] == \"UK\", \"United Kingdom\").otherwise(modDf[\"Country/Region\"]))\n",
    "dictOfCountryCodeInv = {v: k for k, v in dictOfCountryCode.items()}\n",
    "\n",
    "countryCodeUdf= udf(lambda x: dictOfCountryCodeInv.get(x),StringType())\n",
    "\n",
    "modDf = modDf.withColumn(\"country_code\", countryCodeUdf(modDf[\"Country/Region\"]))\n",
    "\n",
    "coronaFctDf = modDf.select(F.col(\"Country/Region\").alias(\"country_name\"), \"country_code\", \"total_confirmed\", \"total_deaths\", \"total_recovered\")\n",
    "\n",
    "coronaFctDf.write.mode(\"overwrite\") \\\n",
    "    .format(\"jdbc\") \\\n",
    "    .option(\"url\", JDBC_URL) \\\n",
    "    .option(\"dbtable\",JDBC_URL_SCHEMA + \"corona_facts\") \\\n",
    "    .option(\"user\", JDBC_USER) \\\n",
    "    .option(\"password\", JDBC_PASSWORD) \\\n",
    "    .option(\"driver\", \"org.postgresql.Driver\")\\\n",
    "    .save();\n"
   ]
  },
  {
   "cell_type": "code",
   "execution_count": 19,
   "metadata": {
    "editable": true
   },
   "outputs": [],
   "source": [
    "existingCountryDf = spark.read \\\n",
    "    .format(\"jdbc\") \\\n",
    "    .option(\"url\", JDBC_URL) \\\n",
    "    .option(\"dbtable\",JDBC_URL_SCHEMA + \"country_dim\") \\\n",
    "    .option(\"user\", JDBC_USER) \\\n",
    "    .option(\"password\", JDBC_PASSWORD) \\\n",
    "    .load()\n"
   ]
  },
  {
   "cell_type": "code",
   "execution_count": 27,
   "metadata": {
    "editable": true
   },
   "outputs": [],
   "source": [
    "filteredDs = df.filter(checkIfExistsInDict(df.Actor1CountryCode) | checkIfExistsInDict(df.Actor2CountryCode)).filter(df.Sourceurl.like(\"%corona%\"))\n",
    "\n",
    "countryDimDfUnionLeft = filteredDs.select(filteredDs.Actor1CountryCode.alias(\"country_code\"));\n",
    "countryDimDfUnionRight = filteredDs.select(filteredDs.Actor2CountryCode.alias(\"country_code\"));\n",
    "\n",
    "unionedDf = countryDimDfUnionLeft.union(countryDimDfUnionRight)\n",
    "# countryDimDf = unionedDf.filter(checkIfExistsInDict(unionedDf.country_code)).withColumn(\"id\", uuidUdf()).withColumn(\"total_confirmed\", lit(0)).withColumn(\"total_deaths\", lit(0)).withColumn(\"total_recovered\", lit(0))\n",
    "\n",
    "countryDimDf = unionedDf.filter(checkIfExistsInDict(unionedDf.country_code)).withColumn(\"id\", uuidUdf())\n",
    "\n",
    "countryDimDf = countryDimDf.join(coronaFctDf, \"country_code\").select(\"country_code\", \"country_name\", \"total_confirmed\", \"total_deaths\", \"total_recovered\", \"id\")\n",
    "\n",
    "# countryDimDf.take(5)\n",
    "\n",
    "countryDimDf = countryDimDf.union(existingCountryDf);\n",
    "\n",
    "\n",
    "\n",
    "countryDimDf = countryDimDf.dropDuplicates([\"country_code\"])\n",
    "\n",
    "countryDimDf.write.mode(\"overwrite\") \\\n",
    "    .format(\"jdbc\") \\\n",
    "    .option(\"url\", JDBC_URL) \\\n",
    "    .option(\"dbtable\",JDBC_URL_SCHEMA + \"country_dim\") \\\n",
    "    .option(\"user\", JDBC_USER) \\\n",
    "    .option(\"password\", JDBC_PASSWORD) \\\n",
    "    .option(\"driver\", \"org.postgresql.Driver\")\\\n",
    "    .save();"
   ]
  },
  {
   "cell_type": "code",
   "execution_count": 10,
   "metadata": {
    "editable": true
   },
   "outputs": [
    {
     "data": {
      "text/plain": [
       "0"
      ]
     },
     "execution_count": 10,
     "metadata": {},
     "output_type": "execute_result"
    }
   ],
   "source": [
    "# Fill up the corona stats\n",
    "\n",
    "source_event_url_content = str(requests.get(CORONA_STATS_SITE).content, \"utf8\")\n",
    "\n",
    "subprocess.call(\"echo \\\"\" + source_event_url_content + \"\\\"\" + \" > data/corona.csv\", shell=True)\n",
    "\n",
    "\n"
   ]
  },
  {
   "cell_type": "code",
   "execution_count": 11,
   "metadata": {
    "editable": true
   },
   "outputs": [
    {
     "data": {
      "text/plain": [
       "[Row(Province/State='Hubei', Country/Region='Mainland China', Last Update='2/4/20 23:43', Confirmed=16678, Deaths=479, Recovered=522),\n",
       " Row(Province/State='Zhejiang', Country/Region='Mainland China', Last Update='2/5/20 1:33', Confirmed=895, Deaths=0, Recovered=63),\n",
       " Row(Province/State='Guangdong', Country/Region='Mainland China', Last Update='2/5/20 2:03', Confirmed=870, Deaths=0, Recovered=32),\n",
       " Row(Province/State='Henan', Country/Region='Mainland China', Last Update='2/5/20 1:13', Confirmed=764, Deaths=2, Recovered=41),\n",
       " Row(Province/State='Hunan', Country/Region='Mainland China', Last Update='2/5/20 1:43', Confirmed=661, Deaths=0, Recovered=35)]"
      ]
     },
     "execution_count": 11,
     "metadata": {},
     "output_type": "execute_result"
    }
   ],
   "source": []
  },
  {
   "cell_type": "code",
   "execution_count": 14,
   "metadata": {
    "editable": true
   },
   "outputs": [],
   "source": []
  },
  {
   "cell_type": "code",
   "execution_count": null,
   "metadata": {
    "editable": true
   },
   "outputs": [],
   "source": []
  },
  {
   "cell_type": "code",
   "execution_count": 11,
   "metadata": {
    "editable": true
   },
   "outputs": [],
   "source": [
    "#write to parquet\n",
    "df_spark.write.parquet(\"sas_data\")\n",
    "df_spark=spark.read.parquet(\"sas_data\")"
   ]
  },
  {
   "cell_type": "markdown",
   "metadata": {
    "editable": true
   },
   "source": [
    "### Step 2: Explore and Assess the Data\n",
    "#### Explore the Data \n",
    "Identify data quality issues, like missing values, duplicate data, etc.\n",
    "\n",
    "#### Cleaning Steps\n",
    "Document steps necessary to clean the data"
   ]
  },
  {
   "cell_type": "code",
   "execution_count": null,
   "metadata": {
    "editable": true
   },
   "outputs": [],
   "source": [
    "# Performing cleaning tasks here\n",
    "\n",
    "\n",
    "\n"
   ]
  },
  {
   "cell_type": "markdown",
   "metadata": {
    "editable": true
   },
   "source": [
    "### Step 3: Define the Data Model\n",
    "#### 3.1 Conceptual Data Model\n",
    "Map out the conceptual data model and explain why you chose that model\n",
    "\n",
    "#### 3.2 Mapping Out Data Pipelines\n",
    "List the steps necessary to pipeline the data into the chosen data model"
   ]
  },
  {
   "cell_type": "markdown",
   "metadata": {
    "editable": true
   },
   "source": [
    "### Step 4: Run Pipelines to Model the Data \n",
    "#### 4.1 Create the data model\n",
    "Build the data pipelines to create the data model."
   ]
  },
  {
   "cell_type": "code",
   "execution_count": null,
   "metadata": {
    "editable": true
   },
   "outputs": [],
   "source": [
    "# Write code here"
   ]
  },
  {
   "cell_type": "markdown",
   "metadata": {
    "editable": true
   },
   "source": [
    "#### 4.2 Data Quality Checks\n",
    "Explain the data quality checks you'll perform to ensure the pipeline ran as expected. These could include:\n",
    " * Integrity constraints on the relational database (e.g., unique key, data type, etc.)\n",
    " * Unit tests for the scripts to ensure they are doing the right thing\n",
    " * Source/Count checks to ensure completeness\n",
    " \n",
    "Run Quality Checks"
   ]
  },
  {
   "cell_type": "code",
   "execution_count": null,
   "metadata": {
    "editable": true
   },
   "outputs": [],
   "source": [
    "# Perform quality checks here"
   ]
  },
  {
   "cell_type": "markdown",
   "metadata": {
    "editable": true
   },
   "source": [
    "#### 4.3 Data dictionary \n",
    "Create a data dictionary for your data model. For each field, provide a brief description of what the data is and where it came from. You can include the data dictionary in the notebook or in a separate file."
   ]
  },
  {
   "cell_type": "markdown",
   "metadata": {
    "editable": true
   },
   "source": [
    "#### Step 5: Complete Project Write Up\n",
    "* Clearly state the rationale for the choice of tools and technologies for the project.\n",
    "* Propose how often the data should be updated and why.\n",
    "* Write a description of how you would approach the problem differently under the following scenarios:\n",
    " * The data was increased by 100x.\n",
    " * The data populates a dashboard that must be updated on a daily basis by 7am every day.\n",
    " * The database needed to be accessed by 100+ people."
   ]
  },
  {
   "cell_type": "code",
   "execution_count": null,
   "metadata": {
    "editable": true
   },
   "outputs": [],
   "source": []
  },
  {
   "cell_type": "code",
   "execution_count": null,
   "metadata": {
    "editable": true
   },
   "outputs": [],
   "source": []
  },
  {
   "cell_type": "code",
   "execution_count": null,
   "metadata": {
    "editable": true
   },
   "outputs": [],
   "source": []
  },
  {
   "cell_type": "code",
   "execution_count": null,
   "metadata": {
    "editable": true
   },
   "outputs": [],
   "source": []
  },
  {
   "cell_type": "code",
   "execution_count": null,
   "metadata": {
    "editable": true
   },
   "outputs": [],
   "source": []
  },
  {
   "cell_type": "code",
   "execution_count": null,
   "metadata": {
    "editable": true
   },
   "outputs": [],
   "source": []
  }
 ],
 "metadata": {
  "kernelspec": {
   "display_name": "Python 3",
   "language": "python",
   "name": "python3"
  },
  "language_info": {
   "codemirror_mode": {
    "name": "ipython",
    "version": 3
   },
   "file_extension": ".py",
   "mimetype": "text/x-python",
   "name": "python",
   "nbconvert_exporter": "python",
   "pygments_lexer": "ipython3",
   "version": "3.6.3"
  }
 },
 "nbformat": 4,
 "nbformat_minor": 4
}
